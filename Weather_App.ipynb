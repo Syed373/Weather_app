{
  "nbformat": 4,
  "nbformat_minor": 0,
  "metadata": {
    "colab": {
      "provenance": [],
      "authorship_tag": "ABX9TyPFHW6/rt1O4qvvxCIdvbMI",
      "include_colab_link": true
    },
    "kernelspec": {
      "name": "python3",
      "display_name": "Python 3"
    },
    "language_info": {
      "name": "python"
    }
  },
  "cells": [
    {
      "cell_type": "markdown",
      "metadata": {
        "id": "view-in-github",
        "colab_type": "text"
      },
      "source": [
        "<a href=\"https://colab.research.google.com/github/Syed373/Weather_app/blob/main/Weather_App.ipynb\" target=\"_parent\"><img src=\"https://colab.research.google.com/assets/colab-badge.svg\" alt=\"Open In Colab\"/></a>"
      ]
    },
    {
      "cell_type": "markdown",
      "source": [
        "IMPORTING LIBRARIES"
      ],
      "metadata": {
        "id": "uLFHXPhoZVQt"
      }
    },
    {
      "cell_type": "code",
      "execution_count": null,
      "metadata": {
        "id": "l2q1EJ9EZIPl"
      },
      "outputs": [],
      "source": [
        "import requests\n",
        "import pandas as pd\n",
        "import numpy as np\n",
        "from sklearn.model_selection import train_test_split\n",
        "from sklearn.preprocessing import LabelEncoder\n",
        "from sklearn.ensemble import RandomForestClassifier, RandomForestRegressor\n",
        "from sklearn.metrics import mean_squared_error\n",
        "from datetime import datetime, timedelta\n",
        "import pytz"
      ]
    },
    {
      "cell_type": "code",
      "source": [
        "API_KEY = '9215d73252b84b352fe655df088fdda8'\n",
        "BASE_URL ='https://api.openweathermap.org/data/2.5/'"
      ],
      "metadata": {
        "id": "7YRPmnSFZ7MT"
      },
      "execution_count": null,
      "outputs": []
    },
    {
      "cell_type": "markdown",
      "source": [
        "1. GET CURRENT DATA"
      ],
      "metadata": {
        "id": "t_nRerqoer53"
      }
    },
    {
      "cell_type": "code",
      "source": [
        "def get_current_weather(city):\n",
        "  url = f\"{BASE_URL}weather?q={city}&appid={API_KEY}&units=metric\"\n",
        "  response = requests.get(url)\n",
        "  data = response.json()\n",
        "  return {\n",
        "      'city': data['name'],\n",
        "      'current_temp': round(data['main']['temp']),\n",
        "      'feels_like': round(data['main']['feels_like']),\n",
        "      'temp_min': round(data['main']['temp_min']),\n",
        "      'temp_max': round(data['main']['temp_max']),\n",
        "      'humidity': round(data['main']['humidity']),\n",
        "      'description': data['weather'][0]['description'],\n",
        "      'country': data['sys']['country'],\n",
        "      'wind_gust_dir': data['wind']['deg'],\n",
        "      'pressure': data['main']['pressure'],\n",
        "      'WindGustSpeed': data['wind']['speed']\n",
        "  }"
      ],
      "metadata": {
        "id": "CmrI3Jpra6Oj"
      },
      "execution_count": null,
      "outputs": []
    },
    {
      "cell_type": "markdown",
      "source": [
        "2. READ HISTORICAL DATA"
      ],
      "metadata": {
        "id": "TPYAGVXmewUB"
      }
    },
    {
      "cell_type": "code",
      "source": [
        "def read_historical_data(filename):\n",
        "  df = pd.read_csv(filename)\n",
        "  df = df.dropna()\n",
        "  df = df.drop_duplicates()\n",
        "  return df"
      ],
      "metadata": {
        "id": "sh84TWgjcQna"
      },
      "execution_count": null,
      "outputs": []
    },
    {
      "cell_type": "markdown",
      "source": [
        "3. PREPARE DATA FOR TRAINING"
      ],
      "metadata": {
        "id": "be5bMfIhflLP"
      }
    },
    {
      "cell_type": "code",
      "source": [
        "def prepare_data(data):\n",
        "  le = LabelEncoder()\n",
        "  data['WindGustDir'] = le.fit_transform(data['WindGustDir'])\n",
        "  data['RainTomorrow'] = le.fit_transform(data['RainTomorrow'])\n",
        "\n",
        "  x = data[['MinTemp', 'MaxTemp', 'WindGustDir', 'WindGustSpeed', 'Humidity', 'Pressure', 'Temp']]\n",
        "  y = data['RainTomorrow']\n",
        "\n",
        "  return x, y, le"
      ],
      "metadata": {
        "id": "_NYbEmgre2es"
      },
      "execution_count": null,
      "outputs": []
    },
    {
      "cell_type": "markdown",
      "source": [
        "4. TRAIN MODEL"
      ],
      "metadata": {
        "id": "U3QjDT2GgzEy"
      }
    },
    {
      "cell_type": "code",
      "source": [
        "def train_rain_model(x,y):\n",
        "  x_train, x_test, y_train, y_test = train_test_split(x, y, test_size = 0.2, random_state = 42)\n",
        "  model = RandomForestClassifier(n_estimators=100, random_state=42)\n",
        "  model.fit(x_train, y_train)\n",
        "  y_Pred = model.predict(x_test)\n",
        "\n",
        "  print(\"Mean Squared Error for Rain Model\")\n",
        "\n",
        "  print(mean_squared_error(y_test, y_Pred))\n",
        "\n",
        "  return model"
      ],
      "metadata": {
        "id": "EvvgzGQzf_Pq"
      },
      "execution_count": null,
      "outputs": []
    },
    {
      "cell_type": "markdown",
      "source": [
        "5. PREPARE REGRESSION DATA"
      ],
      "metadata": {
        "id": "7qt_G_4fiOCb"
      }
    },
    {
      "cell_type": "code",
      "source": [
        "def prepare_regression_data(data, feature):\n",
        "  x, y = [], []\n",
        "\n",
        "  for i in range(len(data) - 1):\n",
        "    x.append(data[feature].iloc[i])\n",
        "\n",
        "    y.append(data[feature].iloc[i+1])\n",
        "\n",
        "  x = np.array(x).reshape(-1, 1)\n",
        "  y = np.array(y)\n",
        "  return x,y\n"
      ],
      "metadata": {
        "id": "tqECWwkAiMNh"
      },
      "execution_count": null,
      "outputs": []
    },
    {
      "cell_type": "code",
      "source": [
        "def train_regression_model(x,y):\n",
        "  model = RandomForestRegressor(n_estimators=100, random_state=42)\n",
        "  model.fit(x,y)\n",
        "  return model"
      ],
      "metadata": {
        "id": "vcuZUlgjjdWq"
      },
      "execution_count": null,
      "outputs": []
    },
    {
      "cell_type": "markdown",
      "source": [
        "**PREDICTING FUTURE VALUES**"
      ],
      "metadata": {
        "id": "jjtgJCIfj1ll"
      }
    },
    {
      "cell_type": "code",
      "source": [
        "def predict_future(model, current_value):\n",
        "  predictions = [current_value]\n",
        "\n",
        "  for i in range(5):\n",
        "    next_value = model.predict(np.array([[predictions[-1]]]))\n",
        "\n",
        "    predictions.append(next_value[0])\n",
        "\n",
        "  return predictions[1:]"
      ],
      "metadata": {
        "id": "aMzpUHg9j0Sl"
      },
      "execution_count": null,
      "outputs": []
    },
    {
      "cell_type": "markdown",
      "source": [
        "**WEATHER ANALYSIS**"
      ],
      "metadata": {
        "id": "ZjIPCEGvkj8P"
      }
    },
    {
      "cell_type": "code",
      "source": [
        "def weather_view():\n",
        "  city = input(\"Enter any city name: \")\n",
        "  current_weather = get_current_weather(city)\n",
        "\n",
        "  historical_data = read_historical_data('/content/weather.csv')\n",
        "\n",
        "  x, y, le = prepare_data(historical_data)\n",
        "  rain_model = train_rain_model(x,y)\n",
        "\n",
        "  #wind direction => campass points\n",
        "  wind_deg = current_weather['wind_gust_dir'] % 360\n",
        "  compass_points = [\n",
        "    (\"N\", 0, 11.25), (\"NNE\", 11.25, 33.75), (\"NE\", 33.75, 56.25),\n",
        "    (\"ENE\", 56.25, 78.75), (\"E\", 78.75, 101.25), (\"ESE\", 101.25, 123.75),\n",
        "    (\"SE\", 123.75, 146.25), (\"SSE\",146.25, 168.75), (\"S\", 168.75, 191.25),\n",
        "    (\"SSW\", 191.25, 213.75), (\"SW\", 213.75, 236.25), (\"WSW\", 236.25, 258.75),\n",
        "    (\"W\", 258.75, 281.25), (\"WNW\", 281.25, 303.75), (\"NW\", 303.75, 326.25),\n",
        "    (\"NNW\", 326.25, 348.75), (\"N\", 348.75, 360)\n",
        "  ]\n",
        "  compass_direction = next(point for point, start,end in compass_points if start <= wind_deg <end)\n",
        "  compass_direction_encoded = le.transform([compass_direction])[0] if compass_direction in le.classes_ else -1\n",
        "\n",
        "  current_data = {\n",
        "      'MinTemp' : current_weather['temp_min'],\n",
        "      'MaxTemp' : current_weather['temp_max'],\n",
        "      'WindGustDir' : compass_direction_encoded,\n",
        "      'WindGustSpeed' : current_weather['WindGustSpeed'],\n",
        "      'Humidity' : current_weather['humidity'],\n",
        "      'Pressure' : current_weather['pressure'],\n",
        "      'Temp' : current_weather['current_temp'],\n",
        "  }\n",
        "\n",
        "  current_df = pd.DataFrame([current_data])\n",
        "\n",
        "  rain_prediction = rain_model.predict(current_df)[0]\n",
        "\n",
        "  x_temp, y_temp = prepare_regression_data(historical_data, 'Temp')\n",
        "\n",
        "  x_hum, y_hum = prepare_regression_data(historical_data, 'Humidity')\n",
        "\n",
        "  temp_model = train_regression_model(x_temp, y_temp)\n",
        "\n",
        "  hum_model = train_regression_model(x_hum, y_hum)\n",
        "\n",
        "  future_temp = predict_future(temp_model, current_weather['temp_min'])\n",
        "\n",
        "  future_humidity = predict_future(temp_model, current_weather['humidity'])\n",
        "\n",
        "  timezone =pytz.timezone('Asia/Calcutta')\n",
        "  now = datetime.now(timezone)\n",
        "  next_hour = now + timedelta(hours = 1)\n",
        "  next_hour = next_hour.replace(minute = 0, second=0, microsecond=0)\n",
        "\n",
        "  future_times = [(next_hour + timedelta(hours=i)).strftime(\"%H:%M\") for i in range(5)]\n",
        "\n",
        "  print(f\"City: {city}, {current_weather['country']}\")\n",
        "  print(f\"Current Temperature: {current_weather['current_temp']}\")\n",
        "  print(f\"Feels Like: {current_weather['feels_like']}\")\n",
        "  print(f\"Minimum Temperature: {current_weather['temp_min']}°C\")\n",
        "  print(f\"Maximum Temperature: {current_weather['temp_max']}°C\")\n",
        "  print(f\"Humidity: {current_weather['humidity']}%\")\n",
        "  print(f\"Weather Prediction: {current_weather['description']}\")\n",
        "  print(f\"Rain Prediction: {'Yes' if rain_prediction else 'No'}\")\n",
        "\n",
        "  print(\"\\nFuture Temperature Predictions:\")\n",
        "\n",
        "  for time, temp in zip(future_times, future_temp):\n",
        "    print (f\"{time}: {round(temp, 1)}°C\")\n",
        "\n",
        "  print(\"\\nFuture Humidity Predictions:\")\n",
        "\n",
        "  for time, humidity in zip(future_times, future_humidity):\n",
        "    print (f\"{time}: {round(humidity, 1)}%\")\n",
        "\n",
        "\n",
        "weather_view()"
      ],
      "metadata": {
        "id": "F5EU76RmkjbL",
        "colab": {
          "base_uri": "https://localhost:8080/"
        },
        "outputId": "ad5ff15c-d2e6-4b9d-e509-b82417f1d8fc"
      },
      "execution_count": null,
      "outputs": [
        {
          "output_type": "stream",
          "name": "stdout",
          "text": [
            "Enter any city name: Yelahanka\n",
            "Mean Squared Error for Rain Model\n",
            "0.1506849315068493\n",
            "City: Yelahanka, IN\n",
            "Current Temperature: 30\n",
            "Feels Like: 33\n",
            "Minimum Temperature: 30°C\n",
            "Maximum Temperature: 30°C\n",
            "Humidity: 66%\n",
            "Weather Prediction: light rain\n",
            "Rain Prediction: Yes\n",
            "\n",
            "Future Temperature Predictions:\n",
            "21:00: 28.5°C\n",
            "22:00: 22.0°C\n",
            "23:00: 23.9°C\n",
            "00:00: 21.4°C\n",
            "01:00: 22.7°C\n",
            "\n",
            "Future Humidity Predictions:\n",
            "21:00: 33.1%\n",
            "22:00: 25.1%\n",
            "23:00: 20.1%\n",
            "00:00: 16.6%\n",
            "01:00: 14.4%\n"
          ]
        }
      ]
    }
  ]
}